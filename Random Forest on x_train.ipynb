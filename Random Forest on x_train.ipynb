{
 "cells": [
  {
   "cell_type": "code",
   "execution_count": 1,
   "metadata": {},
   "outputs": [],
   "source": [
    "from dataload import *"
   ]
  },
  {
   "cell_type": "code",
   "execution_count": 23,
   "metadata": {},
   "outputs": [],
   "source": [
    "x_train,y_train = load_object('samplexy.dat')"
   ]
  },
  {
   "cell_type": "code",
   "execution_count": 19,
   "metadata": {},
   "outputs": [],
   "source": [
    "x_dep, x_valid, y_dep, y_valid = load_object(\"reduce.dat\")"
   ]
  },
  {
   "cell_type": "code",
   "execution_count": 3,
   "metadata": {},
   "outputs": [],
   "source": [
    "x_test, y_test = load_object('correduce.dat')"
   ]
  },
  {
   "cell_type": "code",
   "execution_count": 25,
   "metadata": {},
   "outputs": [
    {
     "data": {
      "text/plain": [
       "(149995, 35)"
      ]
     },
     "execution_count": 25,
     "metadata": {},
     "output_type": "execute_result"
    }
   ],
   "source": [
    "x_train.shape"
   ]
  },
  {
   "cell_type": "code",
   "execution_count": 24,
   "metadata": {},
   "outputs": [
    {
     "name": "stdout",
     "output_type": "stream",
     "text": [
      "(311029, 35) (311029, 2) (489844, 35) (489844, 2)\n"
     ]
    }
   ],
   "source": [
    "print(x_test.shape,y_test.shape,x_valid.shape,y_valid.shape)"
   ]
  },
  {
   "cell_type": "code",
   "execution_count": 15,
   "metadata": {},
   "outputs": [
    {
     "name": "stderr",
     "output_type": "stream",
     "text": [
      "D:\\Programs\\Anaconda\\lib\\site-packages\\sklearn\\cross_validation.py:41: DeprecationWarning: This module was deprecated in version 0.18 in favor of the model_selection module into which all the refactored classes and functions are moved. Also note that the interface of the new CV iterators are different from that of this module. This module will be removed in 0.20.\n",
      "  \"This module will be removed in 0.20.\", DeprecationWarning)\n"
     ]
    }
   ],
   "source": [
    "def score_test(model, x_test, y_test):\n",
    "    from pandas import DataFrame\n",
    "    y_pred = model.predict(x_test)\n",
    "    # recode NaNs in y_test.attack_type\n",
    "    y_recode = y_test.attack_type\n",
    "    y_recode[y_recode.isna()] = 'unknown'\n",
    "    labels = ['normal', 'dos', 'probe', 'r2l', 'u2r', 'unknown']\n",
    "    return DataFrame({\n",
    "        'precision' : precision_score(y_recode, y_pred, average=None, labels=labels),\n",
    "        'recall' : recall_score(y_recode, y_pred, average=None, labels=labels),\n",
    "        'F1' : f1_score(y_recode, y_pred, average=None, labels=labels) },\n",
    "        # 'kappa' : cohen_kappa_score(y_test.attack_type, y_pred, labels=labels) },\n",
    "        # 'AUC' : roc_auc_score(y_test.attack_type, y_pred, average=None) },\n",
    "        index=labels)\n",
    "\n",
    "# normal-vs-rest recoding of classes\n",
    "def score_test2(model, x_test, y_test):\n",
    "    from pandas import DataFrame\n",
    "    y_pred = model.predict(x_test)\n",
    "    # recode non-normal classes in y_test.attack_type\n",
    "    y_recode = y_test.attack_type\n",
    "    y_recode[y_recode.isna()] = 'unknown'\n",
    "    y_recode[y_recode != 'normal'] = 'attack'\n",
    "    y_pred[y_pred != 'normal'] = 'attack'\n",
    "    labels = ['normal', 'attack']\n",
    "    return DataFrame({\n",
    "        'precision' : precision_score(y_recode, y_pred, average=None, labels=labels),\n",
    "        'recall' : recall_score(y_recode, y_pred, average=None, labels=labels),\n",
    "        'F1' : f1_score(y_recode, y_pred, average=None, labels=labels) },\n",
    "        # 'AUC' : roc_auc_score(y_recode, y_pred, average=None) },\n",
    "        index=labels)\n",
    "\n",
    "from sklearn import metrics,linear_model,naive_bayes,svm, model_selection, tree, ensemble,datasets, feature_extraction\n",
    "from sklearn.feature_selection import RFE,SelectKBest,f_regression\n",
    "from sklearn.preprocessing import StandardScaler,MinMaxScaler\n",
    "from sklearn.metrics import log_loss, confusion_matrix, precision_score, recall_score, f1_score, cohen_kappa_score, roc_auc_score\n",
    "from sklearn.model_selection import KFold \n",
    "from sklearn.cross_validation import cross_val_score, cross_val_predict"
   ]
  },
  {
   "cell_type": "code",
   "execution_count": 26,
   "metadata": {},
   "outputs": [
    {
     "data": {
      "text/plain": [
       "RandomForestClassifier(bootstrap=True, class_weight=None, criterion='gini',\n",
       "            max_depth=20, max_features='auto', max_leaf_nodes=None,\n",
       "            min_impurity_decrease=0.0, min_impurity_split=None,\n",
       "            min_samples_leaf=1, min_samples_split=2,\n",
       "            min_weight_fraction_leaf=0.0, n_estimators=50, n_jobs=1,\n",
       "            oob_score=True, random_state=2018, verbose=0, warm_start=False)"
      ]
     },
     "execution_count": 26,
     "metadata": {},
     "output_type": "execute_result"
    }
   ],
   "source": [
    "rforest = ensemble.RandomForestClassifier(\n",
    "    n_estimators=50, \n",
    "    max_depth=20, random_state = 2018)\n",
    "rforest.fit(x_train, y_train)"
   ]
  },
  {
   "cell_type": "code",
   "execution_count": 27,
   "metadata": {},
   "outputs": [
    {
     "data": {
      "text/html": [
       "<div>\n",
       "<style scoped>\n",
       "    .dataframe tbody tr th:only-of-type {\n",
       "        vertical-align: middle;\n",
       "    }\n",
       "\n",
       "    .dataframe tbody tr th {\n",
       "        vertical-align: top;\n",
       "    }\n",
       "\n",
       "    .dataframe thead th {\n",
       "        text-align: right;\n",
       "    }\n",
       "</style>\n",
       "<table border=\"1\" class=\"dataframe\">\n",
       "  <thead>\n",
       "    <tr style=\"text-align: right;\">\n",
       "      <th></th>\n",
       "      <th>F1</th>\n",
       "      <th>precision</th>\n",
       "      <th>recall</th>\n",
       "    </tr>\n",
       "  </thead>\n",
       "  <tbody>\n",
       "    <tr>\n",
       "      <th>normal</th>\n",
       "      <td>0.999090</td>\n",
       "      <td>0.999825</td>\n",
       "      <td>0.998355</td>\n",
       "    </tr>\n",
       "    <tr>\n",
       "      <th>attack</th>\n",
       "      <td>0.999775</td>\n",
       "      <td>0.999593</td>\n",
       "      <td>0.999957</td>\n",
       "    </tr>\n",
       "  </tbody>\n",
       "</table>\n",
       "</div>"
      ],
      "text/plain": [
       "              F1  precision    recall\n",
       "normal  0.999090   0.999825  0.998355\n",
       "attack  0.999775   0.999593  0.999957"
      ]
     },
     "execution_count": 27,
     "metadata": {},
     "output_type": "execute_result"
    }
   ],
   "source": [
    "score_test2(rforest,x_valid,y_valid)"
   ]
  },
  {
   "cell_type": "code",
   "execution_count": 28,
   "metadata": {},
   "outputs": [
    {
     "name": "stderr",
     "output_type": "stream",
     "text": [
      "D:\\Programs\\Anaconda\\lib\\site-packages\\sklearn\\metrics\\classification.py:1135: UndefinedMetricWarning: Precision is ill-defined and being set to 0.0 in labels with no predicted samples.\n",
      "  'precision', 'predicted', average, warn_for)\n",
      "D:\\Programs\\Anaconda\\lib\\site-packages\\sklearn\\metrics\\classification.py:1137: UndefinedMetricWarning: Recall is ill-defined and being set to 0.0 in labels with no true samples.\n",
      "  'recall', 'true', average, warn_for)\n",
      "D:\\Programs\\Anaconda\\lib\\site-packages\\sklearn\\metrics\\classification.py:1135: UndefinedMetricWarning: F-score is ill-defined and being set to 0.0 in labels with no predicted samples.\n",
      "  'precision', 'predicted', average, warn_for)\n",
      "D:\\Programs\\Anaconda\\lib\\site-packages\\sklearn\\metrics\\classification.py:1137: UndefinedMetricWarning: F-score is ill-defined and being set to 0.0 in labels with no true samples.\n",
      "  'recall', 'true', average, warn_for)\n"
     ]
    },
    {
     "data": {
      "text/html": [
       "<div>\n",
       "<style scoped>\n",
       "    .dataframe tbody tr th:only-of-type {\n",
       "        vertical-align: middle;\n",
       "    }\n",
       "\n",
       "    .dataframe tbody tr th {\n",
       "        vertical-align: top;\n",
       "    }\n",
       "\n",
       "    .dataframe thead th {\n",
       "        text-align: right;\n",
       "    }\n",
       "</style>\n",
       "<table border=\"1\" class=\"dataframe\">\n",
       "  <thead>\n",
       "    <tr style=\"text-align: right;\">\n",
       "      <th></th>\n",
       "      <th>F1</th>\n",
       "      <th>precision</th>\n",
       "      <th>recall</th>\n",
       "    </tr>\n",
       "  </thead>\n",
       "  <tbody>\n",
       "    <tr>\n",
       "      <th>normal</th>\n",
       "      <td>0.99909</td>\n",
       "      <td>0.999825</td>\n",
       "      <td>0.998355</td>\n",
       "    </tr>\n",
       "    <tr>\n",
       "      <th>dos</th>\n",
       "      <td>0.00000</td>\n",
       "      <td>0.000000</td>\n",
       "      <td>0.000000</td>\n",
       "    </tr>\n",
       "    <tr>\n",
       "      <th>probe</th>\n",
       "      <td>0.00000</td>\n",
       "      <td>0.000000</td>\n",
       "      <td>0.000000</td>\n",
       "    </tr>\n",
       "    <tr>\n",
       "      <th>r2l</th>\n",
       "      <td>0.00000</td>\n",
       "      <td>0.000000</td>\n",
       "      <td>0.000000</td>\n",
       "    </tr>\n",
       "    <tr>\n",
       "      <th>u2r</th>\n",
       "      <td>0.00000</td>\n",
       "      <td>0.000000</td>\n",
       "      <td>0.000000</td>\n",
       "    </tr>\n",
       "    <tr>\n",
       "      <th>unknown</th>\n",
       "      <td>0.00000</td>\n",
       "      <td>0.000000</td>\n",
       "      <td>0.000000</td>\n",
       "    </tr>\n",
       "  </tbody>\n",
       "</table>\n",
       "</div>"
      ],
      "text/plain": [
       "              F1  precision    recall\n",
       "normal   0.99909   0.999825  0.998355\n",
       "dos      0.00000   0.000000  0.000000\n",
       "probe    0.00000   0.000000  0.000000\n",
       "r2l      0.00000   0.000000  0.000000\n",
       "u2r      0.00000   0.000000  0.000000\n",
       "unknown  0.00000   0.000000  0.000000"
      ]
     },
     "execution_count": 28,
     "metadata": {},
     "output_type": "execute_result"
    }
   ],
   "source": [
    "score_test(rforest,x_valid,y_valid)"
   ]
  },
  {
   "cell_type": "code",
   "execution_count": 30,
   "metadata": {},
   "outputs": [
    {
     "name": "stderr",
     "output_type": "stream",
     "text": [
      "D:\\Programs\\Anaconda\\lib\\site-packages\\sklearn\\metrics\\classification.py:1135: UndefinedMetricWarning: Precision is ill-defined and being set to 0.0 in labels with no predicted samples.\n",
      "  'precision', 'predicted', average, warn_for)\n",
      "D:\\Programs\\Anaconda\\lib\\site-packages\\sklearn\\metrics\\classification.py:1135: UndefinedMetricWarning: F-score is ill-defined and being set to 0.0 in labels with no predicted samples.\n",
      "  'precision', 'predicted', average, warn_for)\n"
     ]
    },
    {
     "data": {
      "text/html": [
       "<div>\n",
       "<style scoped>\n",
       "    .dataframe tbody tr th:only-of-type {\n",
       "        vertical-align: middle;\n",
       "    }\n",
       "\n",
       "    .dataframe tbody tr th {\n",
       "        vertical-align: top;\n",
       "    }\n",
       "\n",
       "    .dataframe thead th {\n",
       "        text-align: right;\n",
       "    }\n",
       "</style>\n",
       "<table border=\"1\" class=\"dataframe\">\n",
       "  <thead>\n",
       "    <tr style=\"text-align: right;\">\n",
       "      <th></th>\n",
       "      <th>F1</th>\n",
       "      <th>precision</th>\n",
       "      <th>recall</th>\n",
       "    </tr>\n",
       "  </thead>\n",
       "  <tbody>\n",
       "    <tr>\n",
       "      <th>normal</th>\n",
       "      <td>0.845796</td>\n",
       "      <td>0.736147</td>\n",
       "      <td>0.993828</td>\n",
       "    </tr>\n",
       "    <tr>\n",
       "      <th>dos</th>\n",
       "      <td>0.998697</td>\n",
       "      <td>0.998929</td>\n",
       "      <td>0.998464</td>\n",
       "    </tr>\n",
       "    <tr>\n",
       "      <th>probe</th>\n",
       "      <td>0.661373</td>\n",
       "      <td>0.498824</td>\n",
       "      <td>0.981069</td>\n",
       "    </tr>\n",
       "    <tr>\n",
       "      <th>r2l</th>\n",
       "      <td>0.310855</td>\n",
       "      <td>0.870299</td>\n",
       "      <td>0.189221</td>\n",
       "    </tr>\n",
       "    <tr>\n",
       "      <th>u2r</th>\n",
       "      <td>0.365591</td>\n",
       "      <td>0.314815</td>\n",
       "      <td>0.435897</td>\n",
       "    </tr>\n",
       "    <tr>\n",
       "      <th>unknown</th>\n",
       "      <td>0.000000</td>\n",
       "      <td>0.000000</td>\n",
       "      <td>0.000000</td>\n",
       "    </tr>\n",
       "  </tbody>\n",
       "</table>\n",
       "</div>"
      ],
      "text/plain": [
       "               F1  precision    recall\n",
       "normal   0.845796   0.736147  0.993828\n",
       "dos      0.998697   0.998929  0.998464\n",
       "probe    0.661373   0.498824  0.981069\n",
       "r2l      0.310855   0.870299  0.189221\n",
       "u2r      0.365591   0.314815  0.435897\n",
       "unknown  0.000000   0.000000  0.000000"
      ]
     },
     "execution_count": 30,
     "metadata": {},
     "output_type": "execute_result"
    }
   ],
   "source": [
    "score_test(rforest,x_test,y_test)"
   ]
  },
  {
   "cell_type": "code",
   "execution_count": 31,
   "metadata": {},
   "outputs": [
    {
     "data": {
      "text/html": [
       "<div>\n",
       "<style scoped>\n",
       "    .dataframe tbody tr th:only-of-type {\n",
       "        vertical-align: middle;\n",
       "    }\n",
       "\n",
       "    .dataframe tbody tr th {\n",
       "        vertical-align: top;\n",
       "    }\n",
       "\n",
       "    .dataframe thead th {\n",
       "        text-align: right;\n",
       "    }\n",
       "</style>\n",
       "<table border=\"1\" class=\"dataframe\">\n",
       "  <thead>\n",
       "    <tr style=\"text-align: right;\">\n",
       "      <th></th>\n",
       "      <th>F1</th>\n",
       "      <th>precision</th>\n",
       "      <th>recall</th>\n",
       "    </tr>\n",
       "  </thead>\n",
       "  <tbody>\n",
       "    <tr>\n",
       "      <th>normal</th>\n",
       "      <td>0.845796</td>\n",
       "      <td>0.736147</td>\n",
       "      <td>0.993828</td>\n",
       "    </tr>\n",
       "    <tr>\n",
       "      <th>attack</th>\n",
       "      <td>0.954222</td>\n",
       "      <td>0.998368</td>\n",
       "      <td>0.913814</td>\n",
       "    </tr>\n",
       "  </tbody>\n",
       "</table>\n",
       "</div>"
      ],
      "text/plain": [
       "              F1  precision    recall\n",
       "normal  0.845796   0.736147  0.993828\n",
       "attack  0.954222   0.998368  0.913814"
      ]
     },
     "execution_count": 31,
     "metadata": {},
     "output_type": "execute_result"
    }
   ],
   "source": [
    "score_test2(rforest,x_test,y_test)"
   ]
  },
  {
   "cell_type": "code",
   "execution_count": 92,
   "metadata": {},
   "outputs": [],
   "source": [
    "from sklearn.model_selection import GridSearchCV\n",
    "from sklearn.model_selection import RandomizedSearchCV\n",
    "from sklearn.ensemble import RandomForestClassifier\n",
    "from scipy.stats import randint as randint"
   ]
  },
  {
   "cell_type": "code",
   "execution_count": 95,
   "metadata": {},
   "outputs": [],
   "source": [
    "clf = RandomForestClassifier(n_estimators=50)"
   ]
  },
  {
   "cell_type": "code",
   "execution_count": 88,
   "metadata": {},
   "outputs": [],
   "source": []
  },
  {
   "cell_type": "code",
   "execution_count": 79,
   "metadata": {},
   "outputs": [
    {
     "data": {
      "text/plain": [
       "sklearn.model_selection._search.RandomizedSearchCV"
      ]
     },
     "execution_count": 79,
     "metadata": {},
     "output_type": "execute_result"
    }
   ],
   "source": [
    "type(random_search)"
   ]
  },
  {
   "cell_type": "code",
   "execution_count": 80,
   "metadata": {},
   "outputs": [
    {
     "data": {
      "text/plain": [
       "RandomizedSearchCV(cv=None, error_score='raise',\n",
       "          estimator=RandomForestClassifier(bootstrap=True, class_weight=None, criterion='gini',\n",
       "            max_depth=None, max_features='auto', max_leaf_nodes=None,\n",
       "            min_impurity_decrease=0.0, min_impurity_split=None,\n",
       "            min_samples_leaf=1, min_samples_split=2,\n",
       "            min_weight_fraction_leaf=0.0, n_estimators=10, n_jobs=1,\n",
       "            oob_score=False, random_state=None, verbose=0,\n",
       "            warm_start=False),\n",
       "          fit_params=None, iid=True, n_iter=10, n_jobs=5,\n",
       "          param_distributions={'criterion': ['gini', 'entropy'], 'n_estimators': 39, 'max_depth': 24, 'max_features': 9, 'min_samples_split': 8, 'min_samples_leaf': 10, 'bootstrap': [True, False]},\n",
       "          pre_dispatch='2*n_jobs', random_state=None, refit=True,\n",
       "          return_train_score='warn', scoring=None, verbose=0)"
      ]
     },
     "execution_count": 80,
     "metadata": {},
     "output_type": "execute_result"
    }
   ],
   "source": [
    "random_search"
   ]
  },
  {
   "cell_type": "code",
   "execution_count": 93,
   "metadata": {},
   "outputs": [],
   "source": [
    "param_dist = {\"max_depth\": [3, None],\n",
    "              \"max_features\": randint(1, 11),\n",
    "              \"min_samples_split\": randint(2, 11),\n",
    "              \"min_samples_leaf\": randint(1, 11),\n",
    "              \"bootstrap\": [True, False],\n",
    "              \"criterion\": [\"gini\", \"entropy\"]}"
   ]
  },
  {
   "cell_type": "code",
   "execution_count": 96,
   "metadata": {},
   "outputs": [],
   "source": [
    "n_iter_search = 20\n",
    "random_search = RandomizedSearchCV(clf, param_distributions=param_dist,\n",
    "                                   n_iter=n_iter_search)"
   ]
  },
  {
   "cell_type": "code",
   "execution_count": 99,
   "metadata": {},
   "outputs": [
    {
     "name": "stdout",
     "output_type": "stream",
     "text": [
      "RandomizedSearchCV took 178.29 seconds for 20 candidates parameter settings.\n"
     ]
    },
    {
     "ename": "NameError",
     "evalue": "name 'report' is not defined",
     "output_type": "error",
     "traceback": [
      "\u001b[1;31m---------------------------------------------------------------------------\u001b[0m",
      "\u001b[1;31mNameError\u001b[0m                                 Traceback (most recent call last)",
      "\u001b[1;32m<ipython-input-99-5ef2337d3f95>\u001b[0m in \u001b[0;36m<module>\u001b[1;34m()\u001b[0m\n\u001b[0;32m      4\u001b[0m print(\"RandomizedSearchCV took %.2f seconds for %d candidates\"\n\u001b[0;32m      5\u001b[0m       \" parameter settings.\" % ((time() - start), n_iter_search))\n\u001b[1;32m----> 6\u001b[1;33m \u001b[0mreport\u001b[0m\u001b[1;33m(\u001b[0m\u001b[0mrandom_search\u001b[0m\u001b[1;33m.\u001b[0m\u001b[0mcv_results_\u001b[0m\u001b[1;33m)\u001b[0m\u001b[1;33m\u001b[0m\u001b[0m\n\u001b[0m",
      "\u001b[1;31mNameError\u001b[0m: name 'report' is not defined"
     ]
    }
   ],
   "source": [
    "from time import time\n",
    "start = time()\n",
    "random_search.fit(x_train, y_train)\n",
    "print(\"RandomizedSearchCV took %.2f seconds for %d candidates\"\n",
    "      \" parameter settings.\" % ((time() - start), n_iter_search))"
   ]
  },
  {
   "cell_type": "code",
   "execution_count": null,
   "metadata": {},
   "outputs": [],
   "source": [
    "# http://scikit-learn.org/stable/auto_examples/model_selection/plot_randomized_search.html"
   ]
  },
  {
   "cell_type": "code",
   "execution_count": 100,
   "metadata": {},
   "outputs": [
    {
     "name": "stderr",
     "output_type": "stream",
     "text": [
      "D:\\Programs\\Anaconda\\lib\\site-packages\\sklearn\\utils\\deprecation.py:122: FutureWarning: You are accessing a training score ('mean_train_score'), which will not be available by default any more in 0.21. If you need training scores, please set return_train_score=True\n",
      "  warnings.warn(*warn_args, **warn_kwargs)\n",
      "D:\\Programs\\Anaconda\\lib\\site-packages\\sklearn\\utils\\deprecation.py:122: FutureWarning: You are accessing a training score ('split0_train_score'), which will not be available by default any more in 0.21. If you need training scores, please set return_train_score=True\n",
      "  warnings.warn(*warn_args, **warn_kwargs)\n",
      "D:\\Programs\\Anaconda\\lib\\site-packages\\sklearn\\utils\\deprecation.py:122: FutureWarning: You are accessing a training score ('split1_train_score'), which will not be available by default any more in 0.21. If you need training scores, please set return_train_score=True\n",
      "  warnings.warn(*warn_args, **warn_kwargs)\n",
      "D:\\Programs\\Anaconda\\lib\\site-packages\\sklearn\\utils\\deprecation.py:122: FutureWarning: You are accessing a training score ('split2_train_score'), which will not be available by default any more in 0.21. If you need training scores, please set return_train_score=True\n",
      "  warnings.warn(*warn_args, **warn_kwargs)\n",
      "D:\\Programs\\Anaconda\\lib\\site-packages\\sklearn\\utils\\deprecation.py:122: FutureWarning: You are accessing a training score ('std_train_score'), which will not be available by default any more in 0.21. If you need training scores, please set return_train_score=True\n",
      "  warnings.warn(*warn_args, **warn_kwargs)\n"
     ]
    },
    {
     "data": {
      "text/plain": [
       "{'mean_fit_time': array([2.01461069, 0.77426227, 4.48367206, 1.97903903, 1.27525552,\n",
       "        2.35303879, 3.67683053, 2.68814206, 4.49032092, 1.05251789,\n",
       "        3.23933442, 0.68583186, 1.83642046, 1.83176637, 1.37565327,\n",
       "        1.37000187, 4.28221138, 0.98735905, 4.11067001, 1.85902707]),\n",
       " 'mean_score_time': array([0.15225919, 0.15491867, 0.19580944, 0.19846892, 0.20644744,\n",
       "        0.1542538 , 0.19979874, 0.19348232, 0.19447947, 0.19314988,\n",
       "        0.19049048, 0.15957308, 0.20013126, 0.15791059, 0.15691312,\n",
       "        0.15990527, 0.18849532, 0.15691344, 0.20146092, 0.156581  ]),\n",
       " 'mean_test_score': array([0.90631688, 0.91458382, 0.9990333 , 0.99921331, 0.99739325,\n",
       "        0.90098337, 0.99933998, 0.99890663, 0.99933331, 0.99761992,\n",
       "        0.99914664, 0.91980399, 0.99876663, 0.90245008, 0.90577686,\n",
       "        0.90275676, 0.99929331, 0.89870329, 0.99933331, 0.90237008]),\n",
       " 'mean_train_score': array([0.90620688, 0.91484042, 0.99943998, 0.99973332, 0.99785326,\n",
       "        0.90104011, 0.9999    , 0.99931998, 0.9999    , 0.99807327,\n",
       "        0.99972666, 0.91966081, 0.99914997, 0.9024867 , 0.90584354,\n",
       "        0.90274003, 0.99982666, 0.89853042, 0.9999    , 0.90277687]),\n",
       " 'param_bootstrap': masked_array(data=[True, False, False, False, True, False, False, True,\n",
       "                    False, True, True, True, True, True, True, True, False,\n",
       "                    False, False, False],\n",
       "              mask=[False, False, False, False, False, False, False, False,\n",
       "                    False, False, False, False, False, False, False, False,\n",
       "                    False, False, False, False],\n",
       "        fill_value='?',\n",
       "             dtype=object),\n",
       " 'param_criterion': masked_array(data=['entropy', 'entropy', 'gini', 'entropy', 'gini',\n",
       "                    'gini', 'gini', 'entropy', 'gini', 'gini', 'entropy',\n",
       "                    'entropy', 'gini', 'gini', 'entropy', 'entropy',\n",
       "                    'entropy', 'entropy', 'gini', 'entropy'],\n",
       "              mask=[False, False, False, False, False, False, False, False,\n",
       "                    False, False, False, False, False, False, False, False,\n",
       "                    False, False, False, False],\n",
       "        fill_value='?',\n",
       "             dtype=object),\n",
       " 'param_max_depth': masked_array(data=[3, 3, None, None, None, 3, None, None, None, None,\n",
       "                    None, 3, None, 3, 3, 3, None, 3, None, 3],\n",
       "              mask=[False, False, False, False, False, False, False, False,\n",
       "                    False, False, False, False, False, False, False, False,\n",
       "                    False, False, False, False],\n",
       "        fill_value='?',\n",
       "             dtype=object),\n",
       " 'param_max_features': masked_array(data=[9, 1, 8, 2, 2, 9, 6, 6, 8, 1, 8, 1, 4, 10, 5, 5, 7, 2,\n",
       "                    7, 5],\n",
       "              mask=[False, False, False, False, False, False, False, False,\n",
       "                    False, False, False, False, False, False, False, False,\n",
       "                    False, False, False, False],\n",
       "        fill_value='?',\n",
       "             dtype=object),\n",
       " 'param_min_samples_leaf': masked_array(data=[3, 5, 6, 2, 9, 2, 1, 4, 1, 6, 2, 1, 4, 8, 1, 10, 2, 4,\n",
       "                    1, 1],\n",
       "              mask=[False, False, False, False, False, False, False, False,\n",
       "                    False, False, False, False, False, False, False, False,\n",
       "                    False, False, False, False],\n",
       "        fill_value='?',\n",
       "             dtype=object),\n",
       " 'param_min_samples_split': masked_array(data=[8, 5, 10, 6, 6, 6, 4, 5, 7, 2, 2, 7, 10, 8, 6, 8, 9, 5,\n",
       "                    4, 10],\n",
       "              mask=[False, False, False, False, False, False, False, False,\n",
       "                    False, False, False, False, False, False, False, False,\n",
       "                    False, False, False, False],\n",
       "        fill_value='?',\n",
       "             dtype=object),\n",
       " 'params': [{'bootstrap': True,\n",
       "   'criterion': 'entropy',\n",
       "   'max_depth': 3,\n",
       "   'max_features': 9,\n",
       "   'min_samples_leaf': 3,\n",
       "   'min_samples_split': 8},\n",
       "  {'bootstrap': False,\n",
       "   'criterion': 'entropy',\n",
       "   'max_depth': 3,\n",
       "   'max_features': 1,\n",
       "   'min_samples_leaf': 5,\n",
       "   'min_samples_split': 5},\n",
       "  {'bootstrap': False,\n",
       "   'criterion': 'gini',\n",
       "   'max_depth': None,\n",
       "   'max_features': 8,\n",
       "   'min_samples_leaf': 6,\n",
       "   'min_samples_split': 10},\n",
       "  {'bootstrap': False,\n",
       "   'criterion': 'entropy',\n",
       "   'max_depth': None,\n",
       "   'max_features': 2,\n",
       "   'min_samples_leaf': 2,\n",
       "   'min_samples_split': 6},\n",
       "  {'bootstrap': True,\n",
       "   'criterion': 'gini',\n",
       "   'max_depth': None,\n",
       "   'max_features': 2,\n",
       "   'min_samples_leaf': 9,\n",
       "   'min_samples_split': 6},\n",
       "  {'bootstrap': False,\n",
       "   'criterion': 'gini',\n",
       "   'max_depth': 3,\n",
       "   'max_features': 9,\n",
       "   'min_samples_leaf': 2,\n",
       "   'min_samples_split': 6},\n",
       "  {'bootstrap': False,\n",
       "   'criterion': 'gini',\n",
       "   'max_depth': None,\n",
       "   'max_features': 6,\n",
       "   'min_samples_leaf': 1,\n",
       "   'min_samples_split': 4},\n",
       "  {'bootstrap': True,\n",
       "   'criterion': 'entropy',\n",
       "   'max_depth': None,\n",
       "   'max_features': 6,\n",
       "   'min_samples_leaf': 4,\n",
       "   'min_samples_split': 5},\n",
       "  {'bootstrap': False,\n",
       "   'criterion': 'gini',\n",
       "   'max_depth': None,\n",
       "   'max_features': 8,\n",
       "   'min_samples_leaf': 1,\n",
       "   'min_samples_split': 7},\n",
       "  {'bootstrap': True,\n",
       "   'criterion': 'gini',\n",
       "   'max_depth': None,\n",
       "   'max_features': 1,\n",
       "   'min_samples_leaf': 6,\n",
       "   'min_samples_split': 2},\n",
       "  {'bootstrap': True,\n",
       "   'criterion': 'entropy',\n",
       "   'max_depth': None,\n",
       "   'max_features': 8,\n",
       "   'min_samples_leaf': 2,\n",
       "   'min_samples_split': 2},\n",
       "  {'bootstrap': True,\n",
       "   'criterion': 'entropy',\n",
       "   'max_depth': 3,\n",
       "   'max_features': 1,\n",
       "   'min_samples_leaf': 1,\n",
       "   'min_samples_split': 7},\n",
       "  {'bootstrap': True,\n",
       "   'criterion': 'gini',\n",
       "   'max_depth': None,\n",
       "   'max_features': 4,\n",
       "   'min_samples_leaf': 4,\n",
       "   'min_samples_split': 10},\n",
       "  {'bootstrap': True,\n",
       "   'criterion': 'gini',\n",
       "   'max_depth': 3,\n",
       "   'max_features': 10,\n",
       "   'min_samples_leaf': 8,\n",
       "   'min_samples_split': 8},\n",
       "  {'bootstrap': True,\n",
       "   'criterion': 'entropy',\n",
       "   'max_depth': 3,\n",
       "   'max_features': 5,\n",
       "   'min_samples_leaf': 1,\n",
       "   'min_samples_split': 6},\n",
       "  {'bootstrap': True,\n",
       "   'criterion': 'entropy',\n",
       "   'max_depth': 3,\n",
       "   'max_features': 5,\n",
       "   'min_samples_leaf': 10,\n",
       "   'min_samples_split': 8},\n",
       "  {'bootstrap': False,\n",
       "   'criterion': 'entropy',\n",
       "   'max_depth': None,\n",
       "   'max_features': 7,\n",
       "   'min_samples_leaf': 2,\n",
       "   'min_samples_split': 9},\n",
       "  {'bootstrap': False,\n",
       "   'criterion': 'entropy',\n",
       "   'max_depth': 3,\n",
       "   'max_features': 2,\n",
       "   'min_samples_leaf': 4,\n",
       "   'min_samples_split': 5},\n",
       "  {'bootstrap': False,\n",
       "   'criterion': 'gini',\n",
       "   'max_depth': None,\n",
       "   'max_features': 7,\n",
       "   'min_samples_leaf': 1,\n",
       "   'min_samples_split': 4},\n",
       "  {'bootstrap': False,\n",
       "   'criterion': 'entropy',\n",
       "   'max_depth': 3,\n",
       "   'max_features': 5,\n",
       "   'min_samples_leaf': 1,\n",
       "   'min_samples_split': 10}],\n",
       " 'rank_test_score': array([14, 13,  7,  5, 11, 19,  1,  8,  2, 10,  6, 12,  9, 17, 15, 16,  4,\n",
       "        20,  2, 18]),\n",
       " 'split0_test_score': array([0.90656, 0.91196, 0.99912, 0.9992 , 0.9967 , 0.9106 , 0.9994 ,\n",
       "        0.9989 , 0.99934, 0.99708, 0.99918, 0.9186 , 0.99868, 0.89632,\n",
       "        0.90552, 0.8958 , 0.9994 , 0.91236, 0.99938, 0.90626]),\n",
       " 'split0_train_score': array([0.90631532, 0.91334567, 0.99941997, 0.99971999, 0.99759988,\n",
       "        0.91061553, 0.99987999, 0.99929996, 0.99987999, 0.9979099 ,\n",
       "        0.99962998, 0.91758588, 0.99910996, 0.89630482, 0.90567528,\n",
       "        0.89565478, 0.99979999, 0.91165558, 0.99987999, 0.90634532]),\n",
       " 'split1_test_score': array([0.90558, 0.91172, 0.99902, 0.99928, 0.99772, 0.8955 , 0.99944,\n",
       "        0.99892, 0.99944, 0.998  , 0.99918, 0.93096, 0.99882, 0.90522,\n",
       "        0.90602, 0.90562, 0.99932, 0.913  , 0.99946, 0.9047 ]),\n",
       " 'split1_train_score': array([0.90618531, 0.91160558, 0.99943997, 0.99968998, 0.99789989,\n",
       "        0.89573479, 0.99991   , 0.99931997, 0.99991   , 0.99815991,\n",
       "        0.99974999, 0.93119656, 0.99918996, 0.90576529, 0.90673534,\n",
       "        0.90622531, 0.99980999, 0.91371569, 0.99991   , 0.90578529]),\n",
       " 'split2_test_score': array([0.90681068, 0.92007201, 0.9989599 , 0.99915992, 0.99775978,\n",
       "        0.89684968, 0.99917992, 0.99889989, 0.99921992, 0.99777978,\n",
       "        0.99907991, 0.90985099, 0.99879988, 0.90581058, 0.90579058,\n",
       "        0.90685069, 0.99915992, 0.87074707, 0.99915992, 0.89614961]),\n",
       " 'split2_train_score': array([0.90612, 0.91957, 0.99946, 0.99979, 0.99806, 0.89677, 0.99991,\n",
       "        0.99934, 0.99991, 0.99815, 0.9998 , 0.9102 , 0.99915, 0.90539,\n",
       "        0.90512, 0.90634, 0.99987, 0.87022, 0.99991, 0.8962 ]),\n",
       " 'std_fit_time': array([0.04689244, 0.03018861, 0.08810201, 0.01988539, 0.01954941,\n",
       "        0.06371143, 0.06633748, 0.04179566, 0.05553097, 0.00943856,\n",
       "        0.01221483, 0.03807583, 0.01031114, 0.04291471, 0.03166756,\n",
       "        0.01222388, 0.00971516, 0.00354946, 0.07155498, 0.0329875 ]),\n",
       " 'std_score_time': array([0.00047008, 0.0016952 , 0.00329094, 0.00215424, 0.01976303,\n",
       "        0.0012439 , 0.00124384, 0.00081439, 0.00215476, 0.00169512,\n",
       "        0.00162859, 0.00162879, 0.00409862, 0.00692576, 0.00093993,\n",
       "        0.00401702, 0.0035499 , 0.00542196, 0.00293596, 0.00373168]),\n",
       " 'std_test_score': array([5.31018762e-04, 3.88177751e-03, 6.60349049e-05, 4.99185884e-05,\n",
       "        4.90480390e-04, 6.82244377e-03, 1.14345956e-04, 9.45420442e-06,\n",
       "        8.99701363e-05, 3.92233695e-04, 4.71830392e-05, 8.65960065e-03,\n",
       "        6.18033086e-05, 4.34143066e-03, 2.04357929e-04, 4.94488438e-03,\n",
       "        9.98136440e-05, 1.97687678e-02, 1.26878416e-04, 4.44418331e-03]),\n",
       " 'std_train_score': array([8.11824000e-05, 3.41893749e-03, 1.63417727e-05, 4.19061792e-05,\n",
       "        1.90715912e-04, 6.78402480e-03, 1.41439036e-05, 1.63442229e-05,\n",
       "        1.41439036e-05, 1.15592480e-04, 7.13434424e-05, 8.69647031e-03,\n",
       "        3.26615025e-05, 4.37393763e-03, 6.70104909e-04, 5.01024611e-03,\n",
       "        3.09166448e-05, 2.00361513e-02, 1.41439036e-05, 4.65616514e-03])}"
      ]
     },
     "execution_count": 100,
     "metadata": {},
     "output_type": "execute_result"
    }
   ],
   "source": [
    "random_search.cv_results_"
   ]
  },
  {
   "cell_type": "code",
   "execution_count": 101,
   "metadata": {},
   "outputs": [
    {
     "name": "stdout",
     "output_type": "stream",
     "text": [
      "best score: 0.9993399779992667\n",
      "best parameters:  {'bootstrap': False, 'criterion': 'gini', 'max_depth': None, 'max_features': 6, 'min_samples_leaf': 1, 'min_samples_split': 4}\n"
     ]
    }
   ],
   "source": [
    "print('best score:', random_search.best_score_)\n",
    "print('best parameters: ', random_search.best_params_)"
   ]
  },
  {
   "cell_type": "code",
   "execution_count": 102,
   "metadata": {},
   "outputs": [
    {
     "name": "stderr",
     "output_type": "stream",
     "text": [
      "D:\\Programs\\Anaconda\\lib\\site-packages\\sklearn\\metrics\\classification.py:1135: UndefinedMetricWarning: Precision is ill-defined and being set to 0.0 in labels with no predicted samples.\n",
      "  'precision', 'predicted', average, warn_for)\n",
      "D:\\Programs\\Anaconda\\lib\\site-packages\\sklearn\\metrics\\classification.py:1137: UndefinedMetricWarning: Recall is ill-defined and being set to 0.0 in labels with no true samples.\n",
      "  'recall', 'true', average, warn_for)\n",
      "D:\\Programs\\Anaconda\\lib\\site-packages\\sklearn\\metrics\\classification.py:1135: UndefinedMetricWarning: F-score is ill-defined and being set to 0.0 in labels with no predicted samples.\n",
      "  'precision', 'predicted', average, warn_for)\n",
      "D:\\Programs\\Anaconda\\lib\\site-packages\\sklearn\\metrics\\classification.py:1137: UndefinedMetricWarning: F-score is ill-defined and being set to 0.0 in labels with no true samples.\n",
      "  'recall', 'true', average, warn_for)\n"
     ]
    },
    {
     "data": {
      "text/html": [
       "<div>\n",
       "<style scoped>\n",
       "    .dataframe tbody tr th:only-of-type {\n",
       "        vertical-align: middle;\n",
       "    }\n",
       "\n",
       "    .dataframe tbody tr th {\n",
       "        vertical-align: top;\n",
       "    }\n",
       "\n",
       "    .dataframe thead th {\n",
       "        text-align: right;\n",
       "    }\n",
       "</style>\n",
       "<table border=\"1\" class=\"dataframe\">\n",
       "  <thead>\n",
       "    <tr style=\"text-align: right;\">\n",
       "      <th></th>\n",
       "      <th>F1</th>\n",
       "      <th>precision</th>\n",
       "      <th>recall</th>\n",
       "    </tr>\n",
       "  </thead>\n",
       "  <tbody>\n",
       "    <tr>\n",
       "      <th>normal</th>\n",
       "      <td>0.844826</td>\n",
       "      <td>0.734886</td>\n",
       "      <td>0.993448</td>\n",
       "    </tr>\n",
       "    <tr>\n",
       "      <th>dos</th>\n",
       "      <td>0.000000</td>\n",
       "      <td>0.000000</td>\n",
       "      <td>0.000000</td>\n",
       "    </tr>\n",
       "    <tr>\n",
       "      <th>probe</th>\n",
       "      <td>0.000000</td>\n",
       "      <td>0.000000</td>\n",
       "      <td>0.000000</td>\n",
       "    </tr>\n",
       "    <tr>\n",
       "      <th>r2l</th>\n",
       "      <td>0.000000</td>\n",
       "      <td>0.000000</td>\n",
       "      <td>0.000000</td>\n",
       "    </tr>\n",
       "    <tr>\n",
       "      <th>u2r</th>\n",
       "      <td>0.000000</td>\n",
       "      <td>0.000000</td>\n",
       "      <td>0.000000</td>\n",
       "    </tr>\n",
       "    <tr>\n",
       "      <th>unknown</th>\n",
       "      <td>0.000000</td>\n",
       "      <td>0.000000</td>\n",
       "      <td>0.000000</td>\n",
       "    </tr>\n",
       "  </tbody>\n",
       "</table>\n",
       "</div>"
      ],
      "text/plain": [
       "               F1  precision    recall\n",
       "normal   0.844826   0.734886  0.993448\n",
       "dos      0.000000   0.000000  0.000000\n",
       "probe    0.000000   0.000000  0.000000\n",
       "r2l      0.000000   0.000000  0.000000\n",
       "u2r      0.000000   0.000000  0.000000\n",
       "unknown  0.000000   0.000000  0.000000"
      ]
     },
     "execution_count": 102,
     "metadata": {},
     "output_type": "execute_result"
    }
   ],
   "source": [
    "score_test(random_search,x_test,y_test)"
   ]
  },
  {
   "cell_type": "code",
   "execution_count": 103,
   "metadata": {},
   "outputs": [
    {
     "data": {
      "text/html": [
       "<div>\n",
       "<style scoped>\n",
       "    .dataframe tbody tr th:only-of-type {\n",
       "        vertical-align: middle;\n",
       "    }\n",
       "\n",
       "    .dataframe tbody tr th {\n",
       "        vertical-align: top;\n",
       "    }\n",
       "\n",
       "    .dataframe thead th {\n",
       "        text-align: right;\n",
       "    }\n",
       "</style>\n",
       "<table border=\"1\" class=\"dataframe\">\n",
       "  <thead>\n",
       "    <tr style=\"text-align: right;\">\n",
       "      <th></th>\n",
       "      <th>F1</th>\n",
       "      <th>precision</th>\n",
       "      <th>recall</th>\n",
       "    </tr>\n",
       "  </thead>\n",
       "  <tbody>\n",
       "    <tr>\n",
       "      <th>normal</th>\n",
       "      <td>0.844826</td>\n",
       "      <td>0.734886</td>\n",
       "      <td>0.993448</td>\n",
       "    </tr>\n",
       "    <tr>\n",
       "      <th>attack</th>\n",
       "      <td>0.953888</td>\n",
       "      <td>0.998267</td>\n",
       "      <td>0.913287</td>\n",
       "    </tr>\n",
       "  </tbody>\n",
       "</table>\n",
       "</div>"
      ],
      "text/plain": [
       "              F1  precision    recall\n",
       "normal  0.844826   0.734886  0.993448\n",
       "attack  0.953888   0.998267  0.913287"
      ]
     },
     "execution_count": 103,
     "metadata": {},
     "output_type": "execute_result"
    }
   ],
   "source": [
    "score_test2(random_search,x_test,y_test)"
   ]
  },
  {
   "cell_type": "code",
   "execution_count": 106,
   "metadata": {},
   "outputs": [],
   "source": [
    "best_rf = ensemble.RandomForestClassifier(\n",
    "    bootstrap=False,\n",
    "    criterion=\"gini\",\n",
    "    max_features=6, \n",
    "    max_depth=None, random_state = 2018)\n"
   ]
  },
  {
   "cell_type": "code",
   "execution_count": 107,
   "metadata": {},
   "outputs": [
    {
     "data": {
      "text/plain": [
       "RandomForestClassifier(bootstrap=False, class_weight=None, criterion='gini',\n",
       "            max_depth=None, max_features=6, max_leaf_nodes=None,\n",
       "            min_impurity_decrease=0.0, min_impurity_split=None,\n",
       "            min_samples_leaf=1, min_samples_split=2,\n",
       "            min_weight_fraction_leaf=0.0, n_estimators=10, n_jobs=1,\n",
       "            oob_score=False, random_state=2018, verbose=0,\n",
       "            warm_start=False)"
      ]
     },
     "execution_count": 107,
     "metadata": {},
     "output_type": "execute_result"
    }
   ],
   "source": [
    "best_rf.fit(x_train,y_train)"
   ]
  },
  {
   "cell_type": "code",
   "execution_count": 108,
   "metadata": {},
   "outputs": [
    {
     "name": "stderr",
     "output_type": "stream",
     "text": [
      "D:\\Programs\\Anaconda\\lib\\site-packages\\sklearn\\metrics\\classification.py:1135: UndefinedMetricWarning: Precision is ill-defined and being set to 0.0 in labels with no predicted samples.\n",
      "  'precision', 'predicted', average, warn_for)\n",
      "D:\\Programs\\Anaconda\\lib\\site-packages\\sklearn\\metrics\\classification.py:1137: UndefinedMetricWarning: Recall is ill-defined and being set to 0.0 in labels with no true samples.\n",
      "  'recall', 'true', average, warn_for)\n",
      "D:\\Programs\\Anaconda\\lib\\site-packages\\sklearn\\metrics\\classification.py:1135: UndefinedMetricWarning: F-score is ill-defined and being set to 0.0 in labels with no predicted samples.\n",
      "  'precision', 'predicted', average, warn_for)\n",
      "D:\\Programs\\Anaconda\\lib\\site-packages\\sklearn\\metrics\\classification.py:1137: UndefinedMetricWarning: F-score is ill-defined and being set to 0.0 in labels with no true samples.\n",
      "  'recall', 'true', average, warn_for)\n"
     ]
    },
    {
     "data": {
      "text/html": [
       "<div>\n",
       "<style scoped>\n",
       "    .dataframe tbody tr th:only-of-type {\n",
       "        vertical-align: middle;\n",
       "    }\n",
       "\n",
       "    .dataframe tbody tr th {\n",
       "        vertical-align: top;\n",
       "    }\n",
       "\n",
       "    .dataframe thead th {\n",
       "        text-align: right;\n",
       "    }\n",
       "</style>\n",
       "<table border=\"1\" class=\"dataframe\">\n",
       "  <thead>\n",
       "    <tr style=\"text-align: right;\">\n",
       "      <th></th>\n",
       "      <th>F1</th>\n",
       "      <th>precision</th>\n",
       "      <th>recall</th>\n",
       "    </tr>\n",
       "  </thead>\n",
       "  <tbody>\n",
       "    <tr>\n",
       "      <th>normal</th>\n",
       "      <td>0.843838</td>\n",
       "      <td>0.732978</td>\n",
       "      <td>0.994207</td>\n",
       "    </tr>\n",
       "    <tr>\n",
       "      <th>dos</th>\n",
       "      <td>0.000000</td>\n",
       "      <td>0.000000</td>\n",
       "      <td>0.000000</td>\n",
       "    </tr>\n",
       "    <tr>\n",
       "      <th>probe</th>\n",
       "      <td>0.000000</td>\n",
       "      <td>0.000000</td>\n",
       "      <td>0.000000</td>\n",
       "    </tr>\n",
       "    <tr>\n",
       "      <th>r2l</th>\n",
       "      <td>0.000000</td>\n",
       "      <td>0.000000</td>\n",
       "      <td>0.000000</td>\n",
       "    </tr>\n",
       "    <tr>\n",
       "      <th>u2r</th>\n",
       "      <td>0.000000</td>\n",
       "      <td>0.000000</td>\n",
       "      <td>0.000000</td>\n",
       "    </tr>\n",
       "    <tr>\n",
       "      <th>unknown</th>\n",
       "      <td>0.000000</td>\n",
       "      <td>0.000000</td>\n",
       "      <td>0.000000</td>\n",
       "    </tr>\n",
       "  </tbody>\n",
       "</table>\n",
       "</div>"
      ],
      "text/plain": [
       "               F1  precision    recall\n",
       "normal   0.843838   0.732978  0.994207\n",
       "dos      0.000000   0.000000  0.000000\n",
       "probe    0.000000   0.000000  0.000000\n",
       "r2l      0.000000   0.000000  0.000000\n",
       "u2r      0.000000   0.000000  0.000000\n",
       "unknown  0.000000   0.000000  0.000000"
      ]
     },
     "execution_count": 108,
     "metadata": {},
     "output_type": "execute_result"
    }
   ],
   "source": [
    "score_test(best_rf,x_test,y_test)"
   ]
  },
  {
   "cell_type": "code",
   "execution_count": 109,
   "metadata": {},
   "outputs": [
    {
     "data": {
      "text/html": [
       "<div>\n",
       "<style scoped>\n",
       "    .dataframe tbody tr th:only-of-type {\n",
       "        vertical-align: middle;\n",
       "    }\n",
       "\n",
       "    .dataframe tbody tr th {\n",
       "        vertical-align: top;\n",
       "    }\n",
       "\n",
       "    .dataframe thead th {\n",
       "        text-align: right;\n",
       "    }\n",
       "</style>\n",
       "<table border=\"1\" class=\"dataframe\">\n",
       "  <thead>\n",
       "    <tr style=\"text-align: right;\">\n",
       "      <th></th>\n",
       "      <th>F1</th>\n",
       "      <th>precision</th>\n",
       "      <th>recall</th>\n",
       "    </tr>\n",
       "  </thead>\n",
       "  <tbody>\n",
       "    <tr>\n",
       "      <th>normal</th>\n",
       "      <td>0.843838</td>\n",
       "      <td>0.732978</td>\n",
       "      <td>0.994207</td>\n",
       "    </tr>\n",
       "    <tr>\n",
       "      <th>attack</th>\n",
       "      <td>0.953478</td>\n",
       "      <td>0.998466</td>\n",
       "      <td>0.912369</td>\n",
       "    </tr>\n",
       "  </tbody>\n",
       "</table>\n",
       "</div>"
      ],
      "text/plain": [
       "              F1  precision    recall\n",
       "normal  0.843838   0.732978  0.994207\n",
       "attack  0.953478   0.998466  0.912369"
      ]
     },
     "execution_count": 109,
     "metadata": {},
     "output_type": "execute_result"
    }
   ],
   "source": [
    "score_test2(best_rf,x_test,y_test)"
   ]
  },
  {
   "cell_type": "code",
   "execution_count": 111,
   "metadata": {},
   "outputs": [
    {
     "name": "stderr",
     "output_type": "stream",
     "text": [
      "D:\\Programs\\Anaconda\\lib\\site-packages\\sklearn\\metrics\\classification.py:1135: UndefinedMetricWarning: Precision is ill-defined and being set to 0.0 in labels with no predicted samples.\n",
      "  'precision', 'predicted', average, warn_for)\n",
      "D:\\Programs\\Anaconda\\lib\\site-packages\\sklearn\\metrics\\classification.py:1137: UndefinedMetricWarning: Recall is ill-defined and being set to 0.0 in labels with no true samples.\n",
      "  'recall', 'true', average, warn_for)\n",
      "D:\\Programs\\Anaconda\\lib\\site-packages\\sklearn\\metrics\\classification.py:1135: UndefinedMetricWarning: F-score is ill-defined and being set to 0.0 in labels with no predicted samples.\n",
      "  'precision', 'predicted', average, warn_for)\n",
      "D:\\Programs\\Anaconda\\lib\\site-packages\\sklearn\\metrics\\classification.py:1137: UndefinedMetricWarning: F-score is ill-defined and being set to 0.0 in labels with no true samples.\n",
      "  'recall', 'true', average, warn_for)\n"
     ]
    },
    {
     "data": {
      "text/html": [
       "<div>\n",
       "<style scoped>\n",
       "    .dataframe tbody tr th:only-of-type {\n",
       "        vertical-align: middle;\n",
       "    }\n",
       "\n",
       "    .dataframe tbody tr th {\n",
       "        vertical-align: top;\n",
       "    }\n",
       "\n",
       "    .dataframe thead th {\n",
       "        text-align: right;\n",
       "    }\n",
       "</style>\n",
       "<table border=\"1\" class=\"dataframe\">\n",
       "  <thead>\n",
       "    <tr style=\"text-align: right;\">\n",
       "      <th></th>\n",
       "      <th>F1</th>\n",
       "      <th>precision</th>\n",
       "      <th>recall</th>\n",
       "    </tr>\n",
       "  </thead>\n",
       "  <tbody>\n",
       "    <tr>\n",
       "      <th>normal</th>\n",
       "      <td>0.999265</td>\n",
       "      <td>0.999743</td>\n",
       "      <td>0.998787</td>\n",
       "    </tr>\n",
       "    <tr>\n",
       "      <th>dos</th>\n",
       "      <td>0.000000</td>\n",
       "      <td>0.000000</td>\n",
       "      <td>0.000000</td>\n",
       "    </tr>\n",
       "    <tr>\n",
       "      <th>probe</th>\n",
       "      <td>0.000000</td>\n",
       "      <td>0.000000</td>\n",
       "      <td>0.000000</td>\n",
       "    </tr>\n",
       "    <tr>\n",
       "      <th>r2l</th>\n",
       "      <td>0.000000</td>\n",
       "      <td>0.000000</td>\n",
       "      <td>0.000000</td>\n",
       "    </tr>\n",
       "    <tr>\n",
       "      <th>u2r</th>\n",
       "      <td>0.000000</td>\n",
       "      <td>0.000000</td>\n",
       "      <td>0.000000</td>\n",
       "    </tr>\n",
       "    <tr>\n",
       "      <th>unknown</th>\n",
       "      <td>0.000000</td>\n",
       "      <td>0.000000</td>\n",
       "      <td>0.000000</td>\n",
       "    </tr>\n",
       "  </tbody>\n",
       "</table>\n",
       "</div>"
      ],
      "text/plain": [
       "               F1  precision    recall\n",
       "normal   0.999265   0.999743  0.998787\n",
       "dos      0.000000   0.000000  0.000000\n",
       "probe    0.000000   0.000000  0.000000\n",
       "r2l      0.000000   0.000000  0.000000\n",
       "u2r      0.000000   0.000000  0.000000\n",
       "unknown  0.000000   0.000000  0.000000"
      ]
     },
     "execution_count": 111,
     "metadata": {},
     "output_type": "execute_result"
    }
   ],
   "source": [
    "score_test(best_rf,x_valid,y_valid)"
   ]
  },
  {
   "cell_type": "code",
   "execution_count": 112,
   "metadata": {},
   "outputs": [],
   "source": [
    "nic_rf = RandomForestClassifier(bootstrap=False, class_weight=None,\n",
    "            criterion='entropy', max_depth=19, max_features=9,\n",
    "            max_leaf_nodes=None, min_impurity_decrease=0.0,\n",
    "            min_impurity_split=None, min_samples_leaf=1,\n",
    "            min_samples_split=9, min_weight_fraction_leaf=0.0,\n",
    "            n_estimators=51, n_jobs=-1, oob_score=False, random_state=4129,\n",
    "            verbose=0, warm_start=False)\n"
   ]
  },
  {
   "cell_type": "code",
   "execution_count": 113,
   "metadata": {},
   "outputs": [
    {
     "data": {
      "text/plain": [
       "RandomForestClassifier(bootstrap=False, class_weight=None,\n",
       "            criterion='entropy', max_depth=19, max_features=9,\n",
       "            max_leaf_nodes=None, min_impurity_decrease=0.0,\n",
       "            min_impurity_split=None, min_samples_leaf=1,\n",
       "            min_samples_split=9, min_weight_fraction_leaf=0.0,\n",
       "            n_estimators=51, n_jobs=-1, oob_score=False, random_state=4129,\n",
       "            verbose=0, warm_start=False)"
      ]
     },
     "execution_count": 113,
     "metadata": {},
     "output_type": "execute_result"
    }
   ],
   "source": [
    "nic_rf.fit(x_train,y_train)"
   ]
  },
  {
   "cell_type": "code",
   "execution_count": 114,
   "metadata": {},
   "outputs": [
    {
     "name": "stderr",
     "output_type": "stream",
     "text": [
      "D:\\Programs\\Anaconda\\lib\\site-packages\\sklearn\\metrics\\classification.py:1135: UndefinedMetricWarning: Precision is ill-defined and being set to 0.0 in labels with no predicted samples.\n",
      "  'precision', 'predicted', average, warn_for)\n",
      "D:\\Programs\\Anaconda\\lib\\site-packages\\sklearn\\metrics\\classification.py:1137: UndefinedMetricWarning: Recall is ill-defined and being set to 0.0 in labels with no true samples.\n",
      "  'recall', 'true', average, warn_for)\n",
      "D:\\Programs\\Anaconda\\lib\\site-packages\\sklearn\\metrics\\classification.py:1135: UndefinedMetricWarning: F-score is ill-defined and being set to 0.0 in labels with no predicted samples.\n",
      "  'precision', 'predicted', average, warn_for)\n",
      "D:\\Programs\\Anaconda\\lib\\site-packages\\sklearn\\metrics\\classification.py:1137: UndefinedMetricWarning: F-score is ill-defined and being set to 0.0 in labels with no true samples.\n",
      "  'recall', 'true', average, warn_for)\n"
     ]
    },
    {
     "data": {
      "text/html": [
       "<div>\n",
       "<style scoped>\n",
       "    .dataframe tbody tr th:only-of-type {\n",
       "        vertical-align: middle;\n",
       "    }\n",
       "\n",
       "    .dataframe tbody tr th {\n",
       "        vertical-align: top;\n",
       "    }\n",
       "\n",
       "    .dataframe thead th {\n",
       "        text-align: right;\n",
       "    }\n",
       "</style>\n",
       "<table border=\"1\" class=\"dataframe\">\n",
       "  <thead>\n",
       "    <tr style=\"text-align: right;\">\n",
       "      <th></th>\n",
       "      <th>F1</th>\n",
       "      <th>precision</th>\n",
       "      <th>recall</th>\n",
       "    </tr>\n",
       "  </thead>\n",
       "  <tbody>\n",
       "    <tr>\n",
       "      <th>normal</th>\n",
       "      <td>0.999244</td>\n",
       "      <td>0.999825</td>\n",
       "      <td>0.998664</td>\n",
       "    </tr>\n",
       "    <tr>\n",
       "      <th>dos</th>\n",
       "      <td>0.000000</td>\n",
       "      <td>0.000000</td>\n",
       "      <td>0.000000</td>\n",
       "    </tr>\n",
       "    <tr>\n",
       "      <th>probe</th>\n",
       "      <td>0.000000</td>\n",
       "      <td>0.000000</td>\n",
       "      <td>0.000000</td>\n",
       "    </tr>\n",
       "    <tr>\n",
       "      <th>r2l</th>\n",
       "      <td>0.000000</td>\n",
       "      <td>0.000000</td>\n",
       "      <td>0.000000</td>\n",
       "    </tr>\n",
       "    <tr>\n",
       "      <th>u2r</th>\n",
       "      <td>0.000000</td>\n",
       "      <td>0.000000</td>\n",
       "      <td>0.000000</td>\n",
       "    </tr>\n",
       "    <tr>\n",
       "      <th>unknown</th>\n",
       "      <td>0.000000</td>\n",
       "      <td>0.000000</td>\n",
       "      <td>0.000000</td>\n",
       "    </tr>\n",
       "  </tbody>\n",
       "</table>\n",
       "</div>"
      ],
      "text/plain": [
       "               F1  precision    recall\n",
       "normal   0.999244   0.999825  0.998664\n",
       "dos      0.000000   0.000000  0.000000\n",
       "probe    0.000000   0.000000  0.000000\n",
       "r2l      0.000000   0.000000  0.000000\n",
       "u2r      0.000000   0.000000  0.000000\n",
       "unknown  0.000000   0.000000  0.000000"
      ]
     },
     "execution_count": 114,
     "metadata": {},
     "output_type": "execute_result"
    }
   ],
   "source": [
    "score_test(nic_rf,x_valid,y_valid)"
   ]
  },
  {
   "cell_type": "code",
   "execution_count": 115,
   "metadata": {},
   "outputs": [
    {
     "name": "stderr",
     "output_type": "stream",
     "text": [
      "D:\\Programs\\Anaconda\\lib\\site-packages\\sklearn\\metrics\\classification.py:1135: UndefinedMetricWarning: Precision is ill-defined and being set to 0.0 in labels with no predicted samples.\n",
      "  'precision', 'predicted', average, warn_for)\n",
      "D:\\Programs\\Anaconda\\lib\\site-packages\\sklearn\\metrics\\classification.py:1137: UndefinedMetricWarning: Recall is ill-defined and being set to 0.0 in labels with no true samples.\n",
      "  'recall', 'true', average, warn_for)\n",
      "D:\\Programs\\Anaconda\\lib\\site-packages\\sklearn\\metrics\\classification.py:1135: UndefinedMetricWarning: F-score is ill-defined and being set to 0.0 in labels with no predicted samples.\n",
      "  'precision', 'predicted', average, warn_for)\n",
      "D:\\Programs\\Anaconda\\lib\\site-packages\\sklearn\\metrics\\classification.py:1137: UndefinedMetricWarning: F-score is ill-defined and being set to 0.0 in labels with no true samples.\n",
      "  'recall', 'true', average, warn_for)\n"
     ]
    },
    {
     "data": {
      "text/html": [
       "<div>\n",
       "<style scoped>\n",
       "    .dataframe tbody tr th:only-of-type {\n",
       "        vertical-align: middle;\n",
       "    }\n",
       "\n",
       "    .dataframe tbody tr th {\n",
       "        vertical-align: top;\n",
       "    }\n",
       "\n",
       "    .dataframe thead th {\n",
       "        text-align: right;\n",
       "    }\n",
       "</style>\n",
       "<table border=\"1\" class=\"dataframe\">\n",
       "  <thead>\n",
       "    <tr style=\"text-align: right;\">\n",
       "      <th></th>\n",
       "      <th>F1</th>\n",
       "      <th>precision</th>\n",
       "      <th>recall</th>\n",
       "    </tr>\n",
       "  </thead>\n",
       "  <tbody>\n",
       "    <tr>\n",
       "      <th>normal</th>\n",
       "      <td>0.844135</td>\n",
       "      <td>0.733688</td>\n",
       "      <td>0.993729</td>\n",
       "    </tr>\n",
       "    <tr>\n",
       "      <th>dos</th>\n",
       "      <td>0.000000</td>\n",
       "      <td>0.000000</td>\n",
       "      <td>0.000000</td>\n",
       "    </tr>\n",
       "    <tr>\n",
       "      <th>probe</th>\n",
       "      <td>0.000000</td>\n",
       "      <td>0.000000</td>\n",
       "      <td>0.000000</td>\n",
       "    </tr>\n",
       "    <tr>\n",
       "      <th>r2l</th>\n",
       "      <td>0.000000</td>\n",
       "      <td>0.000000</td>\n",
       "      <td>0.000000</td>\n",
       "    </tr>\n",
       "    <tr>\n",
       "      <th>u2r</th>\n",
       "      <td>0.000000</td>\n",
       "      <td>0.000000</td>\n",
       "      <td>0.000000</td>\n",
       "    </tr>\n",
       "    <tr>\n",
       "      <th>unknown</th>\n",
       "      <td>0.000000</td>\n",
       "      <td>0.000000</td>\n",
       "      <td>0.000000</td>\n",
       "    </tr>\n",
       "  </tbody>\n",
       "</table>\n",
       "</div>"
      ],
      "text/plain": [
       "               F1  precision    recall\n",
       "normal   0.844135   0.733688  0.993729\n",
       "dos      0.000000   0.000000  0.000000\n",
       "probe    0.000000   0.000000  0.000000\n",
       "r2l      0.000000   0.000000  0.000000\n",
       "u2r      0.000000   0.000000  0.000000\n",
       "unknown  0.000000   0.000000  0.000000"
      ]
     },
     "execution_count": 115,
     "metadata": {},
     "output_type": "execute_result"
    }
   ],
   "source": [
    "score_test(nic_rf,x_test,y_test)"
   ]
  },
  {
   "cell_type": "code",
   "execution_count": 118,
   "metadata": {},
   "outputs": [],
   "source": [
    "param_grid_cfm = {\"criterion\" : ['gini', 'entropy'],\n",
    "                    \"n_estimators\": [42, 44, 46],\n",
    "                    \"max_features\": [8, 9, 10],\n",
    "                    \"max_depth\": [20, 21, 22],\n",
    "                    \"min_samples_split\": [2, 3, 4],\n",
    "                    \"min_samples_leaf\": [1, 2, 3],\n",
    "                    \"bootstrap\": [True, False]}"
   ]
  },
  {
   "cell_type": "code",
   "execution_count": 119,
   "metadata": {},
   "outputs": [],
   "source": [
    "clf_cfm = RandomForestClassifier(bootstrap=False, class_weight=None, criterion='entropy',n_jobs = 5, random_state=4129)"
   ]
  },
  {
   "cell_type": "code",
   "execution_count": 122,
   "metadata": {},
   "outputs": [],
   "source": [
    "rf_cv = GridSearchCV(estimator = clf_cfm, param_grid = param_grid_cfm, \n",
    "                             cv = model_selection.StratifiedKFold(n_splits = 3, shuffle = True, \n",
    "                                                                        random_state = 2018), n_jobs = 5)"
   ]
  },
  {
   "cell_type": "code",
   "execution_count": 123,
   "metadata": {},
   "outputs": [
    {
     "name": "stdout",
     "output_type": "stream",
     "text": [
      "Wall time: 50min 28s\n"
     ]
    },
    {
     "data": {
      "text/plain": [
       "GridSearchCV(cv=StratifiedKFold(n_splits=3, random_state=2018, shuffle=True),\n",
       "       error_score='raise',\n",
       "       estimator=RandomForestClassifier(bootstrap=False, class_weight=None,\n",
       "            criterion='entropy', max_depth=None, max_features='auto',\n",
       "            max_leaf_nodes=None, min_impurity_decrease=0.0,\n",
       "            min_impurity_split=None, min_samples_leaf=1,\n",
       "            min_samples_split=2, min_weight_fraction_leaf=0.0,\n",
       "            n_estimators=10, n_jobs=5, oob_score=False, random_state=4129,\n",
       "            verbose=0, warm_start=False),\n",
       "       fit_params=None, iid=True, n_jobs=5,\n",
       "       param_grid={'criterion': ['gini', 'entropy'], 'n_estimators': [42, 44, 46], 'max_features': [8, 9, 10], 'max_depth': [20, 21, 22], 'min_samples_split': [2, 3, 4], 'min_samples_leaf': [1, 2, 3], 'bootstrap': [True, False]},\n",
       "       pre_dispatch='2*n_jobs', refit=True, return_train_score='warn',\n",
       "       scoring=None, verbose=0)"
      ]
     },
     "execution_count": 123,
     "metadata": {},
     "output_type": "execute_result"
    }
   ],
   "source": [
    "%time rf_cv.fit(x_train,y_train)"
   ]
  },
  {
   "cell_type": "code",
   "execution_count": 125,
   "metadata": {},
   "outputs": [
    {
     "data": {
      "text/plain": [
       "{'bootstrap': False,\n",
       " 'criterion': 'entropy',\n",
       " 'max_depth': 20,\n",
       " 'max_features': 10,\n",
       " 'min_samples_leaf': 1,\n",
       " 'min_samples_split': 4,\n",
       " 'n_estimators': 44}"
      ]
     },
     "execution_count": 125,
     "metadata": {},
     "output_type": "execute_result"
    }
   ],
   "source": [
    "rf_cv.best_params_"
   ]
  },
  {
   "cell_type": "code",
   "execution_count": 131,
   "metadata": {},
   "outputs": [],
   "source": [
    "grid_rf = RandomForestClassifier(bootstrap=False, class_weight=\"balanced\",\n",
    "            criterion='entropy', max_depth=20, max_features=10,\n",
    "            min_samples_leaf=1, min_samples_split=4,\n",
    "            n_estimators=44, n_jobs=4, random_state=4129,\n",
    "            verbose=0, warm_start=False)"
   ]
  },
  {
   "cell_type": "code",
   "execution_count": 132,
   "metadata": {},
   "outputs": [
    {
     "name": "stdout",
     "output_type": "stream",
     "text": [
      "Wall time: 2.66 s\n"
     ]
    },
    {
     "data": {
      "text/plain": [
       "RandomForestClassifier(bootstrap=False, class_weight='balanced',\n",
       "            criterion='entropy', max_depth=20, max_features=10,\n",
       "            max_leaf_nodes=None, min_impurity_decrease=0.0,\n",
       "            min_impurity_split=None, min_samples_leaf=1,\n",
       "            min_samples_split=4, min_weight_fraction_leaf=0.0,\n",
       "            n_estimators=44, n_jobs=4, oob_score=False, random_state=4129,\n",
       "            verbose=0, warm_start=False)"
      ]
     },
     "execution_count": 132,
     "metadata": {},
     "output_type": "execute_result"
    }
   ],
   "source": [
    "%time grid_rf.fit(x_train,y_train)"
   ]
  },
  {
   "cell_type": "code",
   "execution_count": 133,
   "metadata": {},
   "outputs": [
    {
     "name": "stderr",
     "output_type": "stream",
     "text": [
      "D:\\Programs\\Anaconda\\lib\\site-packages\\sklearn\\metrics\\classification.py:1135: UndefinedMetricWarning: Precision is ill-defined and being set to 0.0 in labels with no predicted samples.\n",
      "  'precision', 'predicted', average, warn_for)\n",
      "D:\\Programs\\Anaconda\\lib\\site-packages\\sklearn\\metrics\\classification.py:1137: UndefinedMetricWarning: Recall is ill-defined and being set to 0.0 in labels with no true samples.\n",
      "  'recall', 'true', average, warn_for)\n",
      "D:\\Programs\\Anaconda\\lib\\site-packages\\sklearn\\metrics\\classification.py:1135: UndefinedMetricWarning: F-score is ill-defined and being set to 0.0 in labels with no predicted samples.\n",
      "  'precision', 'predicted', average, warn_for)\n",
      "D:\\Programs\\Anaconda\\lib\\site-packages\\sklearn\\metrics\\classification.py:1137: UndefinedMetricWarning: F-score is ill-defined and being set to 0.0 in labels with no true samples.\n",
      "  'recall', 'true', average, warn_for)\n"
     ]
    },
    {
     "data": {
      "text/html": [
       "<div>\n",
       "<style scoped>\n",
       "    .dataframe tbody tr th:only-of-type {\n",
       "        vertical-align: middle;\n",
       "    }\n",
       "\n",
       "    .dataframe tbody tr th {\n",
       "        vertical-align: top;\n",
       "    }\n",
       "\n",
       "    .dataframe thead th {\n",
       "        text-align: right;\n",
       "    }\n",
       "</style>\n",
       "<table border=\"1\" class=\"dataframe\">\n",
       "  <thead>\n",
       "    <tr style=\"text-align: right;\">\n",
       "      <th></th>\n",
       "      <th>F1</th>\n",
       "      <th>precision</th>\n",
       "      <th>recall</th>\n",
       "    </tr>\n",
       "  </thead>\n",
       "  <tbody>\n",
       "    <tr>\n",
       "      <th>normal</th>\n",
       "      <td>0.843787</td>\n",
       "      <td>0.733109</td>\n",
       "      <td>0.993828</td>\n",
       "    </tr>\n",
       "    <tr>\n",
       "      <th>dos</th>\n",
       "      <td>0.000000</td>\n",
       "      <td>0.000000</td>\n",
       "      <td>0.000000</td>\n",
       "    </tr>\n",
       "    <tr>\n",
       "      <th>probe</th>\n",
       "      <td>0.000000</td>\n",
       "      <td>0.000000</td>\n",
       "      <td>0.000000</td>\n",
       "    </tr>\n",
       "    <tr>\n",
       "      <th>r2l</th>\n",
       "      <td>0.000000</td>\n",
       "      <td>0.000000</td>\n",
       "      <td>0.000000</td>\n",
       "    </tr>\n",
       "    <tr>\n",
       "      <th>u2r</th>\n",
       "      <td>0.000000</td>\n",
       "      <td>0.000000</td>\n",
       "      <td>0.000000</td>\n",
       "    </tr>\n",
       "    <tr>\n",
       "      <th>unknown</th>\n",
       "      <td>0.000000</td>\n",
       "      <td>0.000000</td>\n",
       "      <td>0.000000</td>\n",
       "    </tr>\n",
       "  </tbody>\n",
       "</table>\n",
       "</div>"
      ],
      "text/plain": [
       "               F1  precision    recall\n",
       "normal   0.843787   0.733109  0.993828\n",
       "dos      0.000000   0.000000  0.000000\n",
       "probe    0.000000   0.000000  0.000000\n",
       "r2l      0.000000   0.000000  0.000000\n",
       "u2r      0.000000   0.000000  0.000000\n",
       "unknown  0.000000   0.000000  0.000000"
      ]
     },
     "execution_count": 133,
     "metadata": {},
     "output_type": "execute_result"
    }
   ],
   "source": [
    "score_test(grid_rf,x_test,y_test)"
   ]
  },
  {
   "cell_type": "code",
   "execution_count": 134,
   "metadata": {},
   "outputs": [
    {
     "data": {
      "text/html": [
       "<div>\n",
       "<style scoped>\n",
       "    .dataframe tbody tr th:only-of-type {\n",
       "        vertical-align: middle;\n",
       "    }\n",
       "\n",
       "    .dataframe tbody tr th {\n",
       "        vertical-align: top;\n",
       "    }\n",
       "\n",
       "    .dataframe thead th {\n",
       "        text-align: right;\n",
       "    }\n",
       "</style>\n",
       "<table border=\"1\" class=\"dataframe\">\n",
       "  <thead>\n",
       "    <tr style=\"text-align: right;\">\n",
       "      <th></th>\n",
       "      <th>F1</th>\n",
       "      <th>precision</th>\n",
       "      <th>recall</th>\n",
       "    </tr>\n",
       "  </thead>\n",
       "  <tbody>\n",
       "    <tr>\n",
       "      <th>normal</th>\n",
       "      <td>0.843787</td>\n",
       "      <td>0.733109</td>\n",
       "      <td>0.993828</td>\n",
       "    </tr>\n",
       "    <tr>\n",
       "      <th>attack</th>\n",
       "      <td>0.953482</td>\n",
       "      <td>0.998366</td>\n",
       "      <td>0.912461</td>\n",
       "    </tr>\n",
       "  </tbody>\n",
       "</table>\n",
       "</div>"
      ],
      "text/plain": [
       "              F1  precision    recall\n",
       "normal  0.843787   0.733109  0.993828\n",
       "attack  0.953482   0.998366  0.912461"
      ]
     },
     "execution_count": 134,
     "metadata": {},
     "output_type": "execute_result"
    }
   ],
   "source": [
    "score_test2(grid_rf,x_test,y_test)"
   ]
  },
  {
   "cell_type": "code",
   "execution_count": null,
   "metadata": {},
   "outputs": [],
   "source": []
  }
 ],
 "metadata": {
  "kernelspec": {
   "display_name": "Python 3",
   "language": "python",
   "name": "python3"
  },
  "language_info": {
   "codemirror_mode": {
    "name": "ipython",
    "version": 3
   },
   "file_extension": ".py",
   "mimetype": "text/x-python",
   "name": "python",
   "nbconvert_exporter": "python",
   "pygments_lexer": "ipython3",
   "version": "3.6.4"
  }
 },
 "nbformat": 4,
 "nbformat_minor": 2
}
